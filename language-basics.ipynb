{
 "cells": [
  {
   "cell_type": "markdown",
   "metadata": {},
   "source": [
    "# Python for Water Resources Engineering\n",
    "[Jon Herman, University of California, Davis](http://faculty.engineering.ucdavis.edu/herman/)"
   ]
  },
  {
   "cell_type": "markdown",
   "metadata": {},
   "source": [
    "### 1. Python language basics - variables, loops, lists, and dicts\n",
    "\n",
    "Even without the scientific packages, Python provides readable, easy-to-use variables and data structures. There are already very good tutorials on these topics from a computer science perspective, such as [Learn Python the Hard Way](http://learnpythonthehardway.org/book/). This will be a quick overview of the basics before moving on to engineering applications.\n",
    "\n",
    "**Defining variables (no type declaration):**"
   ]
  },
  {
   "cell_type": "code",
   "execution_count": 6,
   "metadata": {
    "collapsed": false
   },
   "outputs": [
    {
     "name": "stdout",
     "output_type": "stream",
     "text": [
      "Output = 5, 10.0\n"
     ]
    }
   ],
   "source": [
    "a = 5 # this is a comment\n",
    "b = 10.0\n",
    "c = 'this is a string'\n",
    "print \"Output = \" + str(a) + \", \" + str(b)"
   ]
  },
  {
   "cell_type": "markdown",
   "metadata": {},
   "source": [
    "**Lists and loops:**"
   ]
  },
  {
   "cell_type": "code",
   "execution_count": 7,
   "metadata": {
    "collapsed": false
   },
   "outputs": [
    {
     "name": "stdout",
     "output_type": "stream",
     "text": [
      "10.0\n",
      "3.0\n",
      "some words\n",
      "2\n"
     ]
    }
   ],
   "source": [
    "L = [10.0, 3.0, 'some words', 2]\n",
    "for item in L:\n",
    "    print(item)"
   ]
  },
  {
   "cell_type": "markdown",
   "metadata": {},
   "source": [
    "**If statements**: As with `for` loops, these require `:` characters at the end of the line. Other lines in Python do not require line ending characters. Use `and` and `or` keywords to connect multiple logical statements."
   ]
  },
  {
   "cell_type": "code",
   "execution_count": 11,
   "metadata": {
    "collapsed": false
   },
   "outputs": [
    {
     "name": "stdout",
     "output_type": "stream",
     "text": [
      "a is 5\n"
     ]
    }
   ],
   "source": [
    "if a==5:\n",
    "    print(\"a is 5\")\n",
    "elif a==3:\n",
    "    print(\"a is 3\")\n",
    "else:\n",
    "    print(\"a is neither 5 nor 3\")"
   ]
  },
  {
   "cell_type": "markdown",
   "metadata": {},
   "source": [
    "**Whitespace**: As you see in the previous examples, whitespace matters in Python. There are no brackets `{}` to denote code blocks. Use either spaces or tabs to indent `for` loops and `if` statements."
   ]
  },
  {
   "cell_type": "markdown",
   "metadata": {},
   "source": [
    "**Ranges and slicing:**\n",
    "The `range()` function returns a sequence of integers in a list. Its arguments are `(start, stop, step)`, and the `stop` value is not included in the range. Only `stop` is required; default values for `start` and `step` are 0 and 1, respectively."
   ]
  },
  {
   "cell_type": "code",
   "execution_count": 15,
   "metadata": {
    "collapsed": false
   },
   "outputs": [
    {
     "name": "stdout",
     "output_type": "stream",
     "text": [
      "[1, 3, 5, 7, 9]\n",
      "45\n"
     ]
    }
   ],
   "source": [
    "L = range(1,10,2)\n",
    "print(L)\n",
    "\n",
    "count = 0\n",
    "for i in range(10):\n",
    "    count += i\n",
    "print(count)"
   ]
  },
  {
   "cell_type": "markdown",
   "metadata": {},
   "source": [
    "Slicing (retrieving values from a list) follows a similar syntax: `start:stop:step`. Any of these can be omitted with the same default values as above. This is important, because later we'll use NumPy arrays and matrices with the same syntax for indexing."
   ]
  },
  {
   "cell_type": "code",
   "execution_count": 16,
   "metadata": {
    "collapsed": false
   },
   "outputs": [
    {
     "name": "stdout",
     "output_type": "stream",
     "text": [
      "0\n",
      "[5, 6, 7, 8, 9]\n",
      "[0, 1, 2, 3, 4]\n",
      "[3, 5, 7]\n",
      "[9, 8, 7, 6, 5, 4, 3, 2, 1, 0]\n"
     ]
    }
   ],
   "source": [
    "L = range(10)\n",
    "print L[0] # get a single value (Python indices start at 0)\n",
    "print L[5:] # values 5-end\n",
    "print L[:5] # values start-5\n",
    "print L[3:9:2] # values 3-9 in steps of 2\n",
    "print L[::-1] # whole list with step=-1 (reverse order)"
   ]
  },
  {
   "cell_type": "markdown",
   "metadata": {},
   "source": [
    "Lists may look like vectors, but in general they are too slow to use for scientific computing applications, especially if you `append` new values to the end of the list. In the next tutorial, NumPy will solve that issue for us."
   ]
  },
  {
   "cell_type": "markdown",
   "metadata": {},
   "source": [
    "**Dictionaries**: A set of key-value pairs, which you can think of as a lookup table. Unlike lists, the values in a dictionary are not ordered, and they are indexed with strings instead of integers. Lookups are very fast because you don't have to search for items. "
   ]
  },
  {
   "cell_type": "code",
   "execution_count": 18,
   "metadata": {
    "collapsed": false
   },
   "outputs": [
    {
     "name": "stdout",
     "output_type": "stream",
     "text": [
      "This person is named Terry and they are 42 years old\n"
     ]
    }
   ],
   "source": [
    "person = {'name': 'Terry', 'age': 42, 'weight': 160}\n",
    "\n",
    "print('This person is named ' + person['name'] + ' and they are ' + str(person['age']) + ' years old')"
   ]
  },
  {
   "cell_type": "markdown",
   "metadata": {},
   "source": [
    "**Combining lists and dicts:** Both data structures are flexible enough to accept values of any type. This means you can have a list of dictionaries, a dictionary of lists, and any number of nested combinations you can think of! Dictionaries are a good way to handle data in your program, even more complicated objects like matrices, because the items are easy to access."
   ]
  },
  {
   "cell_type": "code",
   "execution_count": 19,
   "metadata": {
    "collapsed": false
   },
   "outputs": [
    {
     "name": "stdout",
     "output_type": "stream",
     "text": [
      "Terry\n",
      "Chris\n"
     ]
    }
   ],
   "source": [
    "person_2 = {'name': 'Chris', 'age': 31, 'weight': 155}\n",
    "people = [person, person_2]\n",
    "company = {'workers': people, 'num_workers': len(people)}\n",
    "\n",
    "for p in company['workers']:\n",
    "    print p['name']"
   ]
  },
  {
   "cell_type": "markdown",
   "metadata": {},
   "source": [
    "**Functions**: A function accepts one or more arguments and returns a value. We've already seen the `range()` function, for example, but we can define our own too. The arguments and return values can be any type, including lists and dicts."
   ]
  },
  {
   "cell_type": "code",
   "execution_count": 20,
   "metadata": {
    "collapsed": false
   },
   "outputs": [
    {
     "name": "stdout",
     "output_type": "stream",
     "text": [
      "25\n",
      "[0, 1, 4, 9, 16, 25, 36, 49, 64, 81]\n"
     ]
    }
   ],
   "source": [
    "def square(x):\n",
    "    return x**2\n",
    "\n",
    "def square_list(L):\n",
    "    return [square(x) for x in L] # this is called a \"list comprehension\" -- makes things easy\n",
    "\n",
    "print(square(5))\n",
    "print(square_list(range(10)))"
   ]
  },
  {
   "cell_type": "markdown",
   "metadata": {},
   "source": [
    "**Keyword arguments**: Functions can accept either positional or keyword arguments. Positional arguments are identified by their order, while keyword arguments are explicitly named and may be given a default value in the function definition."
   ]
  },
  {
   "cell_type": "code",
   "execution_count": 23,
   "metadata": {
    "collapsed": false
   },
   "outputs": [
    {
     "name": "stdout",
     "output_type": "stream",
     "text": [
      "25\n",
      "49\n"
     ]
    }
   ],
   "source": [
    "def square(x, a=0):\n",
    "    return (x+a)**2\n",
    "\n",
    "print(square(5))\n",
    "print(square(5,2))"
   ]
  },
  {
   "cell_type": "markdown",
   "metadata": {},
   "source": [
    "Again, this is only an overview of the Python language. Whenever you see syntax you don't recognize, you should check whether it comes from Python itself or from a particular scientific package. Spend some time with [Learn Python the Hard Way](http://learnpythonthehardway.org/book/) for a much more detailed tutorial of the language.\n",
    "\n",
    "On to engineering! [Part 2: NumPy and Matplotlib](numpy-matplotlib.html)"
   ]
  }
 ],
 "metadata": {
  "kernelspec": {
   "display_name": "Python 2",
   "language": "python",
   "name": "python2"
  },
  "language_info": {
   "codemirror_mode": {
    "name": "ipython",
    "version": 2
   },
   "file_extension": ".py",
   "mimetype": "text/x-python",
   "name": "python",
   "nbconvert_exporter": "python",
   "pygments_lexer": "ipython2",
   "version": "2.7.10"
  }
 },
 "nbformat": 4,
 "nbformat_minor": 0
}
